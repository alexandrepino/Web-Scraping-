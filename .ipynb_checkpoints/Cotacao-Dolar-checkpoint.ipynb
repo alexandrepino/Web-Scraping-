{
 "cells": [
  {
   "cell_type": "code",
   "execution_count": 1,
   "id": "4bbca145",
   "metadata": {},
   "outputs": [],
   "source": [
    "from selenium import webdriver\n",
    "import selenium\n",
    "import time"
   ]
  },
  {
   "cell_type": "code",
   "execution_count": 23,
   "id": "eebdb71e",
   "metadata": {},
   "outputs": [],
   "source": [
    "class CotacaoDolar:\n",
    "    def __init__(self,username,password):\n",
    "        self.username = username\n",
    "        self.password = password\n",
    "        self.driver = webdriver.Firefox()\n",
    "        \n",
    "    def login(self):\n",
    "        driver = self.driver\n",
    "        driver.get('https://br.investing.com/currencies/usd-brl-historical-data')\n",
    "        time.sleep(5)\n",
    "        driver.find_element_by_xpath('//*[@id=\"onetrust-accept-btn-handler\"]').click()\n",
    "        time.sleep(5)\n",
    "        driver.find_element_by_xpath('/html/body/div[5]/header/div[1]/div/div[4]/span[1]/div/a[1]').click()\n",
    "        time.sleep(2)\n",
    "        driver.find_element_by_xpath('//*[@id=\"loginFormUser_email\"]').send_keys(self.username)\n",
    "        time.sleep(1)\n",
    "        driver.find_element_by_xpath('//*[@id=\"loginForm_password\"]').send_keys(self.password)\n",
    "        time.sleep(1)\n",
    "        driver.find_element_by_xpath('/html/body/div[9]/div[2]/a').click()\n",
    "        time.sleep(5)\n",
    "        driver.find_element_by_xpath('/html/body/div[5]/section/div[8]/div[4]/div/a').click()\n",
    "        \n",
    "        \n",
    "   \n",
    "        "
   ]
  },
  {
   "cell_type": "code",
   "execution_count": 24,
   "id": "8f2d3d57",
   "metadata": {},
   "outputs": [
    {
     "name": "stderr",
     "output_type": "stream",
     "text": [
      "/tmp/ipykernel_193071/392182149.py:11: DeprecationWarning: find_element_by_* commands are deprecated. Please use find_element() instead\n",
      "  driver.find_element_by_xpath('//*[@id=\"onetrust-accept-btn-handler\"]').click()\n",
      "/tmp/ipykernel_193071/392182149.py:13: DeprecationWarning: find_element_by_* commands are deprecated. Please use find_element() instead\n",
      "  driver.find_element_by_xpath('/html/body/div[5]/header/div[1]/div/div[4]/span[1]/div/a[1]').click()\n",
      "/tmp/ipykernel_193071/392182149.py:15: DeprecationWarning: find_element_by_* commands are deprecated. Please use find_element() instead\n",
      "  driver.find_element_by_xpath('//*[@id=\"loginFormUser_email\"]').send_keys(self.username)\n",
      "/tmp/ipykernel_193071/392182149.py:17: DeprecationWarning: find_element_by_* commands are deprecated. Please use find_element() instead\n",
      "  driver.find_element_by_xpath('//*[@id=\"loginForm_password\"]').send_keys(self.password)\n",
      "/tmp/ipykernel_193071/392182149.py:19: DeprecationWarning: find_element_by_* commands are deprecated. Please use find_element() instead\n",
      "  driver.find_element_by_xpath('/html/body/div[9]/div[2]/a').click()\n",
      "/tmp/ipykernel_193071/392182149.py:21: DeprecationWarning: find_element_by_* commands are deprecated. Please use find_element() instead\n",
      "  driver.find_element_by_xpath('/html/body/div[5]/section/div[8]/div[4]/div/a').click()\n"
     ]
    }
   ],
   "source": [
    "cotacao1 = CotacaoDolar('alexandre.corretor22@hotmail.com', 'pinochet22')\n",
    "cotacao1.login()"
   ]
  },
  {
   "cell_type": "code",
   "execution_count": null,
   "id": "fb639916",
   "metadata": {},
   "outputs": [],
   "source": []
  }
 ],
 "metadata": {
  "kernelspec": {
   "display_name": "Python 3 (ipykernel)",
   "language": "python",
   "name": "python3"
  },
  "language_info": {
   "codemirror_mode": {
    "name": "ipython",
    "version": 3
   },
   "file_extension": ".py",
   "mimetype": "text/x-python",
   "name": "python",
   "nbconvert_exporter": "python",
   "pygments_lexer": "ipython3",
   "version": "3.9.7"
  }
 },
 "nbformat": 4,
 "nbformat_minor": 5
}
