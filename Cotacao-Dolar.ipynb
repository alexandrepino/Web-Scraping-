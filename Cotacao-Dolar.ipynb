{
 "cells": [
  {
   "cell_type": "markdown",
   "id": "f60c7bc4",
   "metadata": {},
   "source": [
    "# Importando as bibliotecas utilizadas no projeto"
   ]
  },
  {
   "cell_type": "code",
   "execution_count": 26,
   "id": "cb90b1a9",
   "metadata": {},
   "outputs": [],
   "source": [
    "from selenium import webdriver\n",
    "import selenium\n",
    "import time"
   ]
  },
  {
   "cell_type": "markdown",
   "id": "c0ddd83b",
   "metadata": {},
   "source": [
    "Para poder pode fazer o download do arquivo CSV de forma automatizada, primeiro terão que fazer um cadastro no site: https://br.investing.com/currencies/usd-brl-historical-data"
   ]
  },
  {
   "cell_type": "markdown",
   "id": "41b94f00",
   "metadata": {},
   "source": [
    "# Criando a classe e a função do projeto"
   ]
  },
  {
   "cell_type": "code",
   "execution_count": 27,
   "id": "27188ecc",
   "metadata": {},
   "outputs": [],
   "source": [
    "class CotacaoDolar:\n",
    "    def __init__(self,username,password):\n",
    "        self.username = username\n",
    "        self.password = password\n",
    "        self.driver = webdriver.Firefox()\n",
    "        \n",
    "    def login(self):\n",
    "        driver = self.driver\n",
    "        #Entrando no site\n",
    "        driver.get('https://br.investing.com/currencies/usd-brl-historical-data')\n",
    "        time.sleep(5)\n",
    "        #Fechando de forma automatica o aviso de privacidade do site\n",
    "        driver.find_element_by_xpath('//*[@id=\"onetrust-accept-btn-handler\"]').click()\n",
    "        time.sleep(5)\n",
    "        #Entrando na tela de login'\n",
    "        driver.find_element_by_xpath('/html/body/div[5]/header/div[1]/div/div[4]/span[1]/div/a[1]').click()\n",
    "        time.sleep(2)\n",
    "        #Inserindo o email\n",
    "        driver.find_element_by_xpath('//*[@id=\"loginFormUser_email\"]').send_keys(self.username)\n",
    "        time.sleep(1)\n",
    "        #Inserindo a senha\n",
    "        driver.find_element_by_xpath('//*[@id=\"loginForm_password\"]').send_keys(self.password)\n",
    "        time.sleep(1)\n",
    "        #Logando o usuário\n",
    "        driver.find_element_by_xpath('/html/body/div[9]/div[2]/a').click()\n",
    "        time.sleep(5)\n",
    "        #Fazendo download do arquivo CSV\n",
    "        driver.find_element_by_xpath('/html/body/div[5]/section/div[8]/div[4]/div/a').click()\n",
    "        \n",
    "        \n",
    "   \n",
    "        "
   ]
  },
  {
   "cell_type": "markdown",
   "id": "02318e12",
   "metadata": {},
   "source": [
    "# Rodando o projeto"
   ]
  },
  {
   "cell_type": "code",
   "execution_count": null,
   "id": "5c53ac01",
   "metadata": {},
   "outputs": [],
   "source": [
    "c1 = CotacaoDolar('seu email', 'sua senha')\n",
    "c1.login()"
   ]
  }
 ],
 "metadata": {
  "kernelspec": {
   "display_name": "Python 3 (ipykernel)",
   "language": "python",
   "name": "python3"
  },
  "language_info": {
   "codemirror_mode": {
    "name": "ipython",
    "version": 3
   },
   "file_extension": ".py",
   "mimetype": "text/x-python",
   "name": "python",
   "nbconvert_exporter": "python",
   "pygments_lexer": "ipython3",
   "version": "3.9.7"
  }
 },
 "nbformat": 4,
 "nbformat_minor": 5
}
